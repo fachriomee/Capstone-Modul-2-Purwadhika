{
 "cells": [
  {
   "cell_type": "markdown",
   "id": "301646de",
   "metadata": {},
   "source": [
    "# Latar Belakang\n",
    "Dataset ini adalah kumpulan data e-commerce ritel terbesar dari Pakistan. Dataset ini berisi setengah juta catatan transaksi dari Maret 2016 hingga Agustus 2018. Data dikumpulkan dari berbagai pedagang e-commerce sebagai bagian dari studi penelitian. "
   ]
  },
  {
   "cell_type": "markdown",
   "id": "23ce3791",
   "metadata": {},
   "source": [
    "# Goals\n",
    "tujuan dari dilakukannya *Exploratory Data Analysis* adalah untuk memahami performa dari e-commerce di Pakistan dan memberikan saran untuk meningkatkan keuntungan berupa sales penjualan bagi e-commerce tersebut"
   ]
  },
  {
   "cell_type": "markdown",
   "id": "94f4cbea",
   "metadata": {},
   "source": [
    "# Batasan Masalah\n",
    "1. Membahas sales penjualan\n",
    "2. Membahas kategori barang yang dibeli\n",
    "3. Membahas metode pembayaran"
   ]
  },
  {
   "cell_type": "markdown",
   "id": "e40171d5",
   "metadata": {},
   "source": [
    "# Mengimport Library\n",
    "pada kesempatan ini kita akan mengimport library berupa numpy, pandas, matplotlib, dan seaborn"
   ]
  },
  {
   "cell_type": "code",
   "execution_count": 2,
   "id": "a0ebbcfc",
   "metadata": {},
   "outputs": [],
   "source": [
    "import numpy as np\n",
    "import pandas as pd\n",
    "import matplotlib.pyplot as plt\n",
    "import seaborn as sns\n",
    "import warnings\n",
    "warnings.filterwarnings('ignore')\n",
    "pd.set_option('display.max_columns', None)\n",
    "plt.style.use('fivethirtyeight')"
   ]
  },
  {
   "cell_type": "markdown",
   "id": "f73ad93b",
   "metadata": {},
   "source": [
    "# Membaca Dataset\n",
    "Dataset bersumber dari kaggle dan dapat di unduh melalui link https://www.kaggle.com/datasets/zusmani/pakistans-largest-ecommerce-dataset\n",
    "Berikut adalah interpretasi kolom data :\n",
    "1. Item_id :  Nomor urut dari barcode barang yang dipesan\n",
    "2. Status : Status barang yang dipesan\n",
    "3. Created_at : Tanggal dilakukannya pemesanan barang\n",
    "4. Sku : kode unik yang terdiri dari huruf dan angka yang mengidentifikasi karakteristik setiap produk.\n",
    "5. Price : Harga tiap unit dari produk yang dijual\n",
    "6. Qty_ordered : Jumlah total unit barang yang dipesan\n",
    "7. Grand_total : Total harga keseluruhan yang dibayar oleh customer\n",
    "8. Increment_id : kode struk\n",
    "9. Category_name_1 : Kategori barang\n",
    "10. Sales_commision_code : Kode komisi penjualan\n",
    "11. Discount_amount : jumlah diskon yang diberikan\n",
    "12. Payment_method : metode pembayaran \n",
    "13. Working_date : Jam kerja \n",
    "14. BI_Status : Memberikan informasi terkait kelanjutan proses pemesanan barang \n",
    "15. MV : Harga satuan produk\n",
    "16. Year : Tahun customer bergabung\n",
    "17. Month : Bulan customer bergabung \n",
    "18. Customer_since : informasi tanggal,bulan dan tahun customer bergabung\n",
    "19. M-Y : informasi tentang bulan dan tahun terjadinya transaksi\n",
    "20. FY : tahun fiskal perusahaan \n",
    "21. Customer_ID : Nomor customer\n",
    "22. Unnamed : 21 : Empty Column\n",
    "23. Unnamed : 22 : Empty Column\n",
    "24. Unnamed : 23 : Empty Column\n",
    "25. Unnamed : 24 : Empty Column\n",
    "26. Unnamed : 25 : Empty Column"
   ]
  },
  {
   "cell_type": "code",
   "execution_count": 3,
   "id": "782486a3",
   "metadata": {},
   "outputs": [],
   "source": [
    "data = pd.read_csv(r'D:\\purwadhika\\project 2\\Pakistan Largest Ecommerce Dataset.csv')"
   ]
  },
  {
   "cell_type": "code",
   "execution_count": 4,
   "id": "a43ad6b8",
   "metadata": {},
   "outputs": [
    {
     "data": {
      "text/html": [
       "<div>\n",
       "<style scoped>\n",
       "    .dataframe tbody tr th:only-of-type {\n",
       "        vertical-align: middle;\n",
       "    }\n",
       "\n",
       "    .dataframe tbody tr th {\n",
       "        vertical-align: top;\n",
       "    }\n",
       "\n",
       "    .dataframe thead th {\n",
       "        text-align: right;\n",
       "    }\n",
       "</style>\n",
       "<table border=\"1\" class=\"dataframe\">\n",
       "  <thead>\n",
       "    <tr style=\"text-align: right;\">\n",
       "      <th></th>\n",
       "      <th>item_id</th>\n",
       "      <th>status</th>\n",
       "      <th>created_at</th>\n",
       "      <th>sku</th>\n",
       "      <th>price</th>\n",
       "      <th>qty_ordered</th>\n",
       "      <th>grand_total</th>\n",
       "      <th>increment_id</th>\n",
       "      <th>category_name_1</th>\n",
       "      <th>sales_commission_code</th>\n",
       "      <th>discount_amount</th>\n",
       "      <th>payment_method</th>\n",
       "      <th>Working Date</th>\n",
       "      <th>BI Status</th>\n",
       "      <th>MV</th>\n",
       "      <th>Year</th>\n",
       "      <th>Month</th>\n",
       "      <th>Customer Since</th>\n",
       "      <th>M-Y</th>\n",
       "      <th>FY</th>\n",
       "      <th>Customer ID</th>\n",
       "      <th>Unnamed: 21</th>\n",
       "      <th>Unnamed: 22</th>\n",
       "      <th>Unnamed: 23</th>\n",
       "      <th>Unnamed: 24</th>\n",
       "      <th>Unnamed: 25</th>\n",
       "    </tr>\n",
       "  </thead>\n",
       "  <tbody>\n",
       "    <tr>\n",
       "      <th>0</th>\n",
       "      <td>211131.0</td>\n",
       "      <td>complete</td>\n",
       "      <td>7/1/2016</td>\n",
       "      <td>kreations_YI 06-L</td>\n",
       "      <td>1950.0</td>\n",
       "      <td>1.0</td>\n",
       "      <td>1950.0</td>\n",
       "      <td>100147443</td>\n",
       "      <td>Women's Fashion</td>\n",
       "      <td>\\N</td>\n",
       "      <td>0.0</td>\n",
       "      <td>cod</td>\n",
       "      <td>7/1/2016</td>\n",
       "      <td>#REF!</td>\n",
       "      <td>1,950</td>\n",
       "      <td>2016.0</td>\n",
       "      <td>7.0</td>\n",
       "      <td>2016-7</td>\n",
       "      <td>7-2016</td>\n",
       "      <td>FY17</td>\n",
       "      <td>1.0</td>\n",
       "      <td>NaN</td>\n",
       "      <td>NaN</td>\n",
       "      <td>NaN</td>\n",
       "      <td>NaN</td>\n",
       "      <td>NaN</td>\n",
       "    </tr>\n",
       "    <tr>\n",
       "      <th>1</th>\n",
       "      <td>211133.0</td>\n",
       "      <td>canceled</td>\n",
       "      <td>7/1/2016</td>\n",
       "      <td>kcc_Buy 2 Frey Air Freshener &amp; Get 1 Kasual Bo...</td>\n",
       "      <td>240.0</td>\n",
       "      <td>1.0</td>\n",
       "      <td>240.0</td>\n",
       "      <td>100147444</td>\n",
       "      <td>Beauty &amp; Grooming</td>\n",
       "      <td>\\N</td>\n",
       "      <td>0.0</td>\n",
       "      <td>cod</td>\n",
       "      <td>7/1/2016</td>\n",
       "      <td>Gross</td>\n",
       "      <td>240</td>\n",
       "      <td>2016.0</td>\n",
       "      <td>7.0</td>\n",
       "      <td>2016-7</td>\n",
       "      <td>7-2016</td>\n",
       "      <td>FY17</td>\n",
       "      <td>2.0</td>\n",
       "      <td>NaN</td>\n",
       "      <td>NaN</td>\n",
       "      <td>NaN</td>\n",
       "      <td>NaN</td>\n",
       "      <td>NaN</td>\n",
       "    </tr>\n",
       "    <tr>\n",
       "      <th>2</th>\n",
       "      <td>211134.0</td>\n",
       "      <td>canceled</td>\n",
       "      <td>7/1/2016</td>\n",
       "      <td>Ego_UP0017-999-MR0</td>\n",
       "      <td>2450.0</td>\n",
       "      <td>1.0</td>\n",
       "      <td>2450.0</td>\n",
       "      <td>100147445</td>\n",
       "      <td>Women's Fashion</td>\n",
       "      <td>\\N</td>\n",
       "      <td>0.0</td>\n",
       "      <td>cod</td>\n",
       "      <td>7/1/2016</td>\n",
       "      <td>Gross</td>\n",
       "      <td>2,450</td>\n",
       "      <td>2016.0</td>\n",
       "      <td>7.0</td>\n",
       "      <td>2016-7</td>\n",
       "      <td>7-2016</td>\n",
       "      <td>FY17</td>\n",
       "      <td>3.0</td>\n",
       "      <td>NaN</td>\n",
       "      <td>NaN</td>\n",
       "      <td>NaN</td>\n",
       "      <td>NaN</td>\n",
       "      <td>NaN</td>\n",
       "    </tr>\n",
       "    <tr>\n",
       "      <th>3</th>\n",
       "      <td>211135.0</td>\n",
       "      <td>complete</td>\n",
       "      <td>7/1/2016</td>\n",
       "      <td>kcc_krone deal</td>\n",
       "      <td>360.0</td>\n",
       "      <td>1.0</td>\n",
       "      <td>60.0</td>\n",
       "      <td>100147446</td>\n",
       "      <td>Beauty &amp; Grooming</td>\n",
       "      <td>R-FSD-52352</td>\n",
       "      <td>300.0</td>\n",
       "      <td>cod</td>\n",
       "      <td>7/1/2016</td>\n",
       "      <td>Net</td>\n",
       "      <td>360</td>\n",
       "      <td>2016.0</td>\n",
       "      <td>7.0</td>\n",
       "      <td>2016-7</td>\n",
       "      <td>7-2016</td>\n",
       "      <td>FY17</td>\n",
       "      <td>4.0</td>\n",
       "      <td>NaN</td>\n",
       "      <td>NaN</td>\n",
       "      <td>NaN</td>\n",
       "      <td>NaN</td>\n",
       "      <td>NaN</td>\n",
       "    </tr>\n",
       "    <tr>\n",
       "      <th>4</th>\n",
       "      <td>211136.0</td>\n",
       "      <td>order_refunded</td>\n",
       "      <td>7/1/2016</td>\n",
       "      <td>BK7010400AG</td>\n",
       "      <td>555.0</td>\n",
       "      <td>2.0</td>\n",
       "      <td>1110.0</td>\n",
       "      <td>100147447</td>\n",
       "      <td>Soghaat</td>\n",
       "      <td>\\N</td>\n",
       "      <td>0.0</td>\n",
       "      <td>cod</td>\n",
       "      <td>7/1/2016</td>\n",
       "      <td>Valid</td>\n",
       "      <td>1,110</td>\n",
       "      <td>2016.0</td>\n",
       "      <td>7.0</td>\n",
       "      <td>2016-7</td>\n",
       "      <td>7-2016</td>\n",
       "      <td>FY17</td>\n",
       "      <td>5.0</td>\n",
       "      <td>NaN</td>\n",
       "      <td>NaN</td>\n",
       "      <td>NaN</td>\n",
       "      <td>NaN</td>\n",
       "      <td>NaN</td>\n",
       "    </tr>\n",
       "  </tbody>\n",
       "</table>\n",
       "</div>"
      ],
      "text/plain": [
       "    item_id          status created_at  \\\n",
       "0  211131.0        complete   7/1/2016   \n",
       "1  211133.0        canceled   7/1/2016   \n",
       "2  211134.0        canceled   7/1/2016   \n",
       "3  211135.0        complete   7/1/2016   \n",
       "4  211136.0  order_refunded   7/1/2016   \n",
       "\n",
       "                                                 sku   price  qty_ordered  \\\n",
       "0                                  kreations_YI 06-L  1950.0          1.0   \n",
       "1  kcc_Buy 2 Frey Air Freshener & Get 1 Kasual Bo...   240.0          1.0   \n",
       "2                                 Ego_UP0017-999-MR0  2450.0          1.0   \n",
       "3                                     kcc_krone deal   360.0          1.0   \n",
       "4                                        BK7010400AG   555.0          2.0   \n",
       "\n",
       "   grand_total increment_id    category_name_1 sales_commission_code  \\\n",
       "0       1950.0    100147443    Women's Fashion                    \\N   \n",
       "1        240.0    100147444  Beauty & Grooming                    \\N   \n",
       "2       2450.0    100147445    Women's Fashion                    \\N   \n",
       "3         60.0    100147446  Beauty & Grooming           R-FSD-52352   \n",
       "4       1110.0    100147447            Soghaat                    \\N   \n",
       "\n",
       "   discount_amount payment_method Working Date BI Status      MV     Year  \\\n",
       "0              0.0            cod     7/1/2016     #REF!   1,950   2016.0   \n",
       "1              0.0            cod     7/1/2016     Gross     240   2016.0   \n",
       "2              0.0            cod     7/1/2016     Gross   2,450   2016.0   \n",
       "3            300.0            cod     7/1/2016       Net     360   2016.0   \n",
       "4              0.0            cod     7/1/2016     Valid   1,110   2016.0   \n",
       "\n",
       "   Month Customer Since     M-Y    FY  Customer ID  Unnamed: 21  Unnamed: 22  \\\n",
       "0    7.0         2016-7  7-2016  FY17          1.0          NaN          NaN   \n",
       "1    7.0         2016-7  7-2016  FY17          2.0          NaN          NaN   \n",
       "2    7.0         2016-7  7-2016  FY17          3.0          NaN          NaN   \n",
       "3    7.0         2016-7  7-2016  FY17          4.0          NaN          NaN   \n",
       "4    7.0         2016-7  7-2016  FY17          5.0          NaN          NaN   \n",
       "\n",
       "   Unnamed: 23  Unnamed: 24  Unnamed: 25  \n",
       "0          NaN          NaN          NaN  \n",
       "1          NaN          NaN          NaN  \n",
       "2          NaN          NaN          NaN  \n",
       "3          NaN          NaN          NaN  \n",
       "4          NaN          NaN          NaN  "
      ]
     },
     "execution_count": 4,
     "metadata": {},
     "output_type": "execute_result"
    }
   ],
   "source": [
    "data.head()"
   ]
  },
  {
   "cell_type": "markdown",
   "id": "29804096",
   "metadata": {},
   "source": [
    "mengetahui informasi dari dataset"
   ]
  },
  {
   "cell_type": "code",
   "execution_count": 5,
   "id": "ca3ec519",
   "metadata": {},
   "outputs": [
    {
     "data": {
      "text/html": [
       "<div>\n",
       "<style scoped>\n",
       "    .dataframe tbody tr th:only-of-type {\n",
       "        vertical-align: middle;\n",
       "    }\n",
       "\n",
       "    .dataframe tbody tr th {\n",
       "        vertical-align: top;\n",
       "    }\n",
       "\n",
       "    .dataframe thead th {\n",
       "        text-align: right;\n",
       "    }\n",
       "</style>\n",
       "<table border=\"1\" class=\"dataframe\">\n",
       "  <thead>\n",
       "    <tr style=\"text-align: right;\">\n",
       "      <th></th>\n",
       "      <th>Features</th>\n",
       "      <th>DataType</th>\n",
       "      <th>Null</th>\n",
       "      <th>NullPercentage</th>\n",
       "      <th>Unique</th>\n",
       "    </tr>\n",
       "  </thead>\n",
       "  <tbody>\n",
       "    <tr>\n",
       "      <th>0</th>\n",
       "      <td>item_id</td>\n",
       "      <td>float64</td>\n",
       "      <td>464051</td>\n",
       "      <td>44.26</td>\n",
       "      <td>584524</td>\n",
       "    </tr>\n",
       "    <tr>\n",
       "      <th>1</th>\n",
       "      <td>status</td>\n",
       "      <td>object</td>\n",
       "      <td>464066</td>\n",
       "      <td>44.26</td>\n",
       "      <td>16</td>\n",
       "    </tr>\n",
       "    <tr>\n",
       "      <th>2</th>\n",
       "      <td>created_at</td>\n",
       "      <td>object</td>\n",
       "      <td>464051</td>\n",
       "      <td>44.26</td>\n",
       "      <td>789</td>\n",
       "    </tr>\n",
       "    <tr>\n",
       "      <th>3</th>\n",
       "      <td>sku</td>\n",
       "      <td>object</td>\n",
       "      <td>464071</td>\n",
       "      <td>44.26</td>\n",
       "      <td>84889</td>\n",
       "    </tr>\n",
       "    <tr>\n",
       "      <th>4</th>\n",
       "      <td>price</td>\n",
       "      <td>float64</td>\n",
       "      <td>464051</td>\n",
       "      <td>44.26</td>\n",
       "      <td>9121</td>\n",
       "    </tr>\n",
       "    <tr>\n",
       "      <th>5</th>\n",
       "      <td>qty_ordered</td>\n",
       "      <td>float64</td>\n",
       "      <td>464051</td>\n",
       "      <td>44.26</td>\n",
       "      <td>74</td>\n",
       "    </tr>\n",
       "    <tr>\n",
       "      <th>6</th>\n",
       "      <td>grand_total</td>\n",
       "      <td>float64</td>\n",
       "      <td>464051</td>\n",
       "      <td>44.26</td>\n",
       "      <td>36829</td>\n",
       "    </tr>\n",
       "    <tr>\n",
       "      <th>7</th>\n",
       "      <td>increment_id</td>\n",
       "      <td>object</td>\n",
       "      <td>464051</td>\n",
       "      <td>44.26</td>\n",
       "      <td>408785</td>\n",
       "    </tr>\n",
       "    <tr>\n",
       "      <th>8</th>\n",
       "      <td>category_name_1</td>\n",
       "      <td>object</td>\n",
       "      <td>464215</td>\n",
       "      <td>44.27</td>\n",
       "      <td>16</td>\n",
       "    </tr>\n",
       "    <tr>\n",
       "      <th>9</th>\n",
       "      <td>sales_commission_code</td>\n",
       "      <td>object</td>\n",
       "      <td>601226</td>\n",
       "      <td>57.34</td>\n",
       "      <td>7226</td>\n",
       "    </tr>\n",
       "    <tr>\n",
       "      <th>10</th>\n",
       "      <td>discount_amount</td>\n",
       "      <td>float64</td>\n",
       "      <td>464051</td>\n",
       "      <td>44.26</td>\n",
       "      <td>28058</td>\n",
       "    </tr>\n",
       "    <tr>\n",
       "      <th>11</th>\n",
       "      <td>payment_method</td>\n",
       "      <td>object</td>\n",
       "      <td>464051</td>\n",
       "      <td>44.26</td>\n",
       "      <td>18</td>\n",
       "    </tr>\n",
       "    <tr>\n",
       "      <th>12</th>\n",
       "      <td>Working Date</td>\n",
       "      <td>object</td>\n",
       "      <td>464051</td>\n",
       "      <td>44.26</td>\n",
       "      <td>789</td>\n",
       "    </tr>\n",
       "    <tr>\n",
       "      <th>13</th>\n",
       "      <td>BI Status</td>\n",
       "      <td>object</td>\n",
       "      <td>464051</td>\n",
       "      <td>44.26</td>\n",
       "      <td>4</td>\n",
       "    </tr>\n",
       "    <tr>\n",
       "      <th>14</th>\n",
       "      <td>MV</td>\n",
       "      <td>object</td>\n",
       "      <td>464051</td>\n",
       "      <td>44.26</td>\n",
       "      <td>9720</td>\n",
       "    </tr>\n",
       "    <tr>\n",
       "      <th>15</th>\n",
       "      <td>Year</td>\n",
       "      <td>float64</td>\n",
       "      <td>464051</td>\n",
       "      <td>44.26</td>\n",
       "      <td>3</td>\n",
       "    </tr>\n",
       "    <tr>\n",
       "      <th>16</th>\n",
       "      <td>Month</td>\n",
       "      <td>float64</td>\n",
       "      <td>464051</td>\n",
       "      <td>44.26</td>\n",
       "      <td>12</td>\n",
       "    </tr>\n",
       "    <tr>\n",
       "      <th>17</th>\n",
       "      <td>Customer Since</td>\n",
       "      <td>object</td>\n",
       "      <td>464062</td>\n",
       "      <td>44.26</td>\n",
       "      <td>26</td>\n",
       "    </tr>\n",
       "    <tr>\n",
       "      <th>18</th>\n",
       "      <td>M-Y</td>\n",
       "      <td>object</td>\n",
       "      <td>464051</td>\n",
       "      <td>44.26</td>\n",
       "      <td>26</td>\n",
       "    </tr>\n",
       "    <tr>\n",
       "      <th>19</th>\n",
       "      <td>FY</td>\n",
       "      <td>object</td>\n",
       "      <td>464051</td>\n",
       "      <td>44.26</td>\n",
       "      <td>3</td>\n",
       "    </tr>\n",
       "    <tr>\n",
       "      <th>20</th>\n",
       "      <td>Customer ID</td>\n",
       "      <td>float64</td>\n",
       "      <td>464062</td>\n",
       "      <td>44.26</td>\n",
       "      <td>115326</td>\n",
       "    </tr>\n",
       "    <tr>\n",
       "      <th>21</th>\n",
       "      <td>Unnamed: 21</td>\n",
       "      <td>float64</td>\n",
       "      <td>1048575</td>\n",
       "      <td>100.00</td>\n",
       "      <td>0</td>\n",
       "    </tr>\n",
       "    <tr>\n",
       "      <th>22</th>\n",
       "      <td>Unnamed: 22</td>\n",
       "      <td>float64</td>\n",
       "      <td>1048575</td>\n",
       "      <td>100.00</td>\n",
       "      <td>0</td>\n",
       "    </tr>\n",
       "    <tr>\n",
       "      <th>23</th>\n",
       "      <td>Unnamed: 23</td>\n",
       "      <td>float64</td>\n",
       "      <td>1048575</td>\n",
       "      <td>100.00</td>\n",
       "      <td>0</td>\n",
       "    </tr>\n",
       "    <tr>\n",
       "      <th>24</th>\n",
       "      <td>Unnamed: 24</td>\n",
       "      <td>float64</td>\n",
       "      <td>1048575</td>\n",
       "      <td>100.00</td>\n",
       "      <td>0</td>\n",
       "    </tr>\n",
       "    <tr>\n",
       "      <th>25</th>\n",
       "      <td>Unnamed: 25</td>\n",
       "      <td>float64</td>\n",
       "      <td>1048575</td>\n",
       "      <td>100.00</td>\n",
       "      <td>0</td>\n",
       "    </tr>\n",
       "  </tbody>\n",
       "</table>\n",
       "</div>"
      ],
      "text/plain": [
       "                 Features DataType     Null  NullPercentage  Unique\n",
       "0                 item_id  float64   464051           44.26  584524\n",
       "1                  status   object   464066           44.26      16\n",
       "2              created_at   object   464051           44.26     789\n",
       "3                     sku   object   464071           44.26   84889\n",
       "4                   price  float64   464051           44.26    9121\n",
       "5             qty_ordered  float64   464051           44.26      74\n",
       "6             grand_total  float64   464051           44.26   36829\n",
       "7            increment_id   object   464051           44.26  408785\n",
       "8         category_name_1   object   464215           44.27      16\n",
       "9   sales_commission_code   object   601226           57.34    7226\n",
       "10        discount_amount  float64   464051           44.26   28058\n",
       "11         payment_method   object   464051           44.26      18\n",
       "12           Working Date   object   464051           44.26     789\n",
       "13              BI Status   object   464051           44.26       4\n",
       "14                    MV    object   464051           44.26    9720\n",
       "15                   Year  float64   464051           44.26       3\n",
       "16                  Month  float64   464051           44.26      12\n",
       "17         Customer Since   object   464062           44.26      26\n",
       "18                    M-Y   object   464051           44.26      26\n",
       "19                     FY   object   464051           44.26       3\n",
       "20            Customer ID  float64   464062           44.26  115326\n",
       "21            Unnamed: 21  float64  1048575          100.00       0\n",
       "22            Unnamed: 22  float64  1048575          100.00       0\n",
       "23            Unnamed: 23  float64  1048575          100.00       0\n",
       "24            Unnamed: 24  float64  1048575          100.00       0\n",
       "25            Unnamed: 25  float64  1048575          100.00       0"
      ]
     },
     "execution_count": 5,
     "metadata": {},
     "output_type": "execute_result"
    }
   ],
   "source": [
    "Dataset = []\n",
    "for i in data.columns :\n",
    "    Dataset.append([\n",
    "        i,\n",
    "        data[i].dtypes,\n",
    "        data[i].isna().sum(),\n",
    "        round((data[i].isna().sum()/len(data))*100,2),\n",
    "        data[i].nunique()\n",
    "    ])\n",
    "pd.DataFrame(data = Dataset,\n",
    "            columns=[\n",
    "                'Features',\n",
    "                'DataType',\n",
    "                'Null',\n",
    "                'NullPercentage',\n",
    "                'Unique'\n",
    "            ])"
   ]
  },
  {
   "cell_type": "markdown",
   "id": "a407a5fc",
   "metadata": {},
   "source": [
    "# Data Preparation"
   ]
  },
  {
   "cell_type": "markdown",
   "id": "a478520e",
   "metadata": {},
   "source": [
    "## 1. Menghitung dan menghapus data terduplikasi\n",
    "Data duplikat tidak dibutuhkan dalam Exploratory Data Analysis, oleh karenanya data tersebut dihapus."
   ]
  },
  {
   "cell_type": "code",
   "execution_count": 6,
   "id": "9cd0ddec",
   "metadata": {},
   "outputs": [
    {
     "data": {
      "text/plain": [
       "464050"
      ]
     },
     "execution_count": 6,
     "metadata": {},
     "output_type": "execute_result"
    }
   ],
   "source": [
    "data.duplicated().sum()"
   ]
  },
  {
   "cell_type": "code",
   "execution_count": 7,
   "id": "f7374d66",
   "metadata": {},
   "outputs": [],
   "source": [
    "data = data.drop_duplicates()"
   ]
  },
  {
   "cell_type": "markdown",
   "id": "fd36bd06",
   "metadata": {},
   "source": [
    "## 2. Menghitung data Missing Value setelah duplikasi data terhapus \n",
    "Missing value adalah tipe data yang tidak ada isinya, oleh karenanya kita dapat mengisinya atau menghapus missing value dari data tersebut"
   ]
  },
  {
   "cell_type": "code",
   "execution_count": 8,
   "id": "73638220",
   "metadata": {},
   "outputs": [
    {
     "data": {
      "text/plain": [
       "item_id                       1\n",
       "status                       16\n",
       "created_at                    1\n",
       "sku                          21\n",
       "price                         1\n",
       "qty_ordered                   1\n",
       "grand_total                   1\n",
       "increment_id                  1\n",
       "category_name_1             165\n",
       "sales_commission_code    137176\n",
       "discount_amount               1\n",
       "payment_method                1\n",
       "Working Date                  1\n",
       "BI Status                     1\n",
       " MV                           1\n",
       "Year                          1\n",
       "Month                         1\n",
       "Customer Since               12\n",
       "M-Y                           1\n",
       "FY                            1\n",
       "Customer ID                  12\n",
       "Unnamed: 21              584525\n",
       "Unnamed: 22              584525\n",
       "Unnamed: 23              584525\n",
       "Unnamed: 24              584525\n",
       "Unnamed: 25              584525\n",
       "dtype: int64"
      ]
     },
     "execution_count": 8,
     "metadata": {},
     "output_type": "execute_result"
    }
   ],
   "source": [
    "data.isna().sum()"
   ]
  },
  {
   "cell_type": "markdown",
   "id": "e1a4da85",
   "metadata": {},
   "source": [
    "## 3. Menghitung persentase missing value\n",
    "Walaupun terdapat missing value di setiap kolom namun persentasenya rata-rata hanyalah 0%, hanya kolom sales_commission_code dan kolom Unnamed: 21, Unnamed: 22, Unnamed: 23, Unnamed: 24, Unnamed: 25 yang memiliki persentase missing value yang cukup besar"
   ]
  },
  {
   "cell_type": "code",
   "execution_count": 9,
   "id": "af085369",
   "metadata": {},
   "outputs": [
    {
     "data": {
      "text/plain": [
       "item_id                    0.00\n",
       "status                     0.00\n",
       "created_at                 0.00\n",
       "sku                        0.00\n",
       "price                      0.00\n",
       "qty_ordered                0.00\n",
       "grand_total                0.00\n",
       "increment_id               0.00\n",
       "category_name_1            0.03\n",
       "sales_commission_code     23.47\n",
       "discount_amount            0.00\n",
       "payment_method             0.00\n",
       "Working Date               0.00\n",
       "BI Status                  0.00\n",
       " MV                        0.00\n",
       "Year                       0.00\n",
       "Month                      0.00\n",
       "Customer Since             0.00\n",
       "M-Y                        0.00\n",
       "FY                         0.00\n",
       "Customer ID                0.00\n",
       "Unnamed: 21              100.00\n",
       "Unnamed: 22              100.00\n",
       "Unnamed: 23              100.00\n",
       "Unnamed: 24              100.00\n",
       "Unnamed: 25              100.00\n",
       "dtype: float64"
      ]
     },
     "execution_count": 9,
     "metadata": {},
     "output_type": "execute_result"
    }
   ],
   "source": [
    "round(data.isna().sum()/data.shape[0]*100, 2)"
   ]
  },
  {
   "cell_type": "markdown",
   "id": "52b2c8f5",
   "metadata": {},
   "source": [
    "## 4. Fillna kolom sales commission code\n",
    "dikarenakan pada kolom sales_commission_code memiliki persentase missing value yang cukup besar yakni sebesar 23,47% maka dilakukan analisa data pada kolom tersebut dan diketahui bahwa missing value pada data tersebut diakibatkan oleh ketiadaannya diskon. Oleh karenanya dilakukan pengisian missing value dengan kalimat 'No Commission'."
   ]
  },
  {
   "cell_type": "code",
   "execution_count": 10,
   "id": "2e417212",
   "metadata": {},
   "outputs": [
    {
     "data": {
      "text/html": [
       "<div>\n",
       "<style scoped>\n",
       "    .dataframe tbody tr th:only-of-type {\n",
       "        vertical-align: middle;\n",
       "    }\n",
       "\n",
       "    .dataframe tbody tr th {\n",
       "        vertical-align: top;\n",
       "    }\n",
       "\n",
       "    .dataframe thead th {\n",
       "        text-align: right;\n",
       "    }\n",
       "</style>\n",
       "<table border=\"1\" class=\"dataframe\">\n",
       "  <thead>\n",
       "    <tr style=\"text-align: right;\">\n",
       "      <th></th>\n",
       "      <th>item_id</th>\n",
       "      <th>status</th>\n",
       "      <th>created_at</th>\n",
       "      <th>sku</th>\n",
       "      <th>price</th>\n",
       "      <th>qty_ordered</th>\n",
       "      <th>grand_total</th>\n",
       "      <th>increment_id</th>\n",
       "      <th>category_name_1</th>\n",
       "      <th>sales_commission_code</th>\n",
       "      <th>discount_amount</th>\n",
       "      <th>payment_method</th>\n",
       "      <th>Working Date</th>\n",
       "      <th>BI Status</th>\n",
       "      <th>MV</th>\n",
       "      <th>Year</th>\n",
       "      <th>Month</th>\n",
       "      <th>Customer Since</th>\n",
       "      <th>M-Y</th>\n",
       "      <th>FY</th>\n",
       "      <th>Customer ID</th>\n",
       "      <th>Unnamed: 21</th>\n",
       "      <th>Unnamed: 22</th>\n",
       "      <th>Unnamed: 23</th>\n",
       "      <th>Unnamed: 24</th>\n",
       "      <th>Unnamed: 25</th>\n",
       "    </tr>\n",
       "  </thead>\n",
       "  <tbody>\n",
       "    <tr>\n",
       "      <th>135887</th>\n",
       "      <td>381711.0</td>\n",
       "      <td>complete</td>\n",
       "      <td>1/4/2017</td>\n",
       "      <td>jockey_J260-1013-3-M</td>\n",
       "      <td>715.0</td>\n",
       "      <td>1.0</td>\n",
       "      <td>1714.0</td>\n",
       "      <td>100256851</td>\n",
       "      <td>Men's Fashion</td>\n",
       "      <td>NaN</td>\n",
       "      <td>0.0</td>\n",
       "      <td>cod</td>\n",
       "      <td>1/4/2017</td>\n",
       "      <td>Net</td>\n",
       "      <td>715</td>\n",
       "      <td>2017.0</td>\n",
       "      <td>1.0</td>\n",
       "      <td>2016-10</td>\n",
       "      <td>1-2017</td>\n",
       "      <td>FY17</td>\n",
       "      <td>11660.0</td>\n",
       "      <td>NaN</td>\n",
       "      <td>NaN</td>\n",
       "      <td>NaN</td>\n",
       "      <td>NaN</td>\n",
       "      <td>NaN</td>\n",
       "    </tr>\n",
       "    <tr>\n",
       "      <th>135888</th>\n",
       "      <td>381713.0</td>\n",
       "      <td>complete</td>\n",
       "      <td>1/4/2017</td>\n",
       "      <td>BO_nonRC-Jeep-Silver</td>\n",
       "      <td>250.0</td>\n",
       "      <td>1.0</td>\n",
       "      <td>1714.0</td>\n",
       "      <td>100256851</td>\n",
       "      <td>Kids &amp; Baby</td>\n",
       "      <td>NaN</td>\n",
       "      <td>0.0</td>\n",
       "      <td>cod</td>\n",
       "      <td>1/4/2017</td>\n",
       "      <td>Net</td>\n",
       "      <td>250</td>\n",
       "      <td>2017.0</td>\n",
       "      <td>1.0</td>\n",
       "      <td>2016-10</td>\n",
       "      <td>1-2017</td>\n",
       "      <td>FY17</td>\n",
       "      <td>11660.0</td>\n",
       "      <td>NaN</td>\n",
       "      <td>NaN</td>\n",
       "      <td>NaN</td>\n",
       "      <td>NaN</td>\n",
       "      <td>NaN</td>\n",
       "    </tr>\n",
       "    <tr>\n",
       "      <th>135889</th>\n",
       "      <td>381714.0</td>\n",
       "      <td>complete</td>\n",
       "      <td>1/4/2017</td>\n",
       "      <td>aybeez_ABZ-3338-M</td>\n",
       "      <td>299.0</td>\n",
       "      <td>1.0</td>\n",
       "      <td>1714.0</td>\n",
       "      <td>100256851</td>\n",
       "      <td>Men's Fashion</td>\n",
       "      <td>NaN</td>\n",
       "      <td>0.0</td>\n",
       "      <td>cod</td>\n",
       "      <td>1/4/2017</td>\n",
       "      <td>Net</td>\n",
       "      <td>299</td>\n",
       "      <td>2017.0</td>\n",
       "      <td>1.0</td>\n",
       "      <td>2016-10</td>\n",
       "      <td>1-2017</td>\n",
       "      <td>FY17</td>\n",
       "      <td>11660.0</td>\n",
       "      <td>NaN</td>\n",
       "      <td>NaN</td>\n",
       "      <td>NaN</td>\n",
       "      <td>NaN</td>\n",
       "      <td>NaN</td>\n",
       "    </tr>\n",
       "    <tr>\n",
       "      <th>135890</th>\n",
       "      <td>381716.0</td>\n",
       "      <td>complete</td>\n",
       "      <td>1/4/2017</td>\n",
       "      <td>PC_3P COMBED-008</td>\n",
       "      <td>450.0</td>\n",
       "      <td>1.0</td>\n",
       "      <td>1714.0</td>\n",
       "      <td>100256851</td>\n",
       "      <td>Men's Fashion</td>\n",
       "      <td>NaN</td>\n",
       "      <td>0.0</td>\n",
       "      <td>cod</td>\n",
       "      <td>1/4/2017</td>\n",
       "      <td>Net</td>\n",
       "      <td>450</td>\n",
       "      <td>2017.0</td>\n",
       "      <td>1.0</td>\n",
       "      <td>2016-10</td>\n",
       "      <td>1-2017</td>\n",
       "      <td>FY17</td>\n",
       "      <td>11660.0</td>\n",
       "      <td>NaN</td>\n",
       "      <td>NaN</td>\n",
       "      <td>NaN</td>\n",
       "      <td>NaN</td>\n",
       "      <td>NaN</td>\n",
       "    </tr>\n",
       "    <tr>\n",
       "      <th>281723</th>\n",
       "      <td>557053.0</td>\n",
       "      <td>complete</td>\n",
       "      <td>8/10/2017</td>\n",
       "      <td>JSM_JSM-003-ComboGreenWhitePakShirt-M</td>\n",
       "      <td>180.0</td>\n",
       "      <td>2.0</td>\n",
       "      <td>360.0</td>\n",
       "      <td>100345578</td>\n",
       "      <td>\\N</td>\n",
       "      <td>NaN</td>\n",
       "      <td>0.0</td>\n",
       "      <td>cod</td>\n",
       "      <td>8/10/2017</td>\n",
       "      <td>Net</td>\n",
       "      <td>360</td>\n",
       "      <td>2017.0</td>\n",
       "      <td>8.0</td>\n",
       "      <td>2016-11</td>\n",
       "      <td>8-2017</td>\n",
       "      <td>FY18</td>\n",
       "      <td>17022.0</td>\n",
       "      <td>NaN</td>\n",
       "      <td>NaN</td>\n",
       "      <td>NaN</td>\n",
       "      <td>NaN</td>\n",
       "      <td>NaN</td>\n",
       "    </tr>\n",
       "    <tr>\n",
       "      <th>...</th>\n",
       "      <td>...</td>\n",
       "      <td>...</td>\n",
       "      <td>...</td>\n",
       "      <td>...</td>\n",
       "      <td>...</td>\n",
       "      <td>...</td>\n",
       "      <td>...</td>\n",
       "      <td>...</td>\n",
       "      <td>...</td>\n",
       "      <td>...</td>\n",
       "      <td>...</td>\n",
       "      <td>...</td>\n",
       "      <td>...</td>\n",
       "      <td>...</td>\n",
       "      <td>...</td>\n",
       "      <td>...</td>\n",
       "      <td>...</td>\n",
       "      <td>...</td>\n",
       "      <td>...</td>\n",
       "      <td>...</td>\n",
       "      <td>...</td>\n",
       "      <td>...</td>\n",
       "      <td>...</td>\n",
       "      <td>...</td>\n",
       "      <td>...</td>\n",
       "      <td>...</td>\n",
       "    </tr>\n",
       "    <tr>\n",
       "      <th>584520</th>\n",
       "      <td>905205.0</td>\n",
       "      <td>processing</td>\n",
       "      <td>8/28/2018</td>\n",
       "      <td>MATHUA5AF70A7D1E50A</td>\n",
       "      <td>35599.0</td>\n",
       "      <td>1.0</td>\n",
       "      <td>35899.0</td>\n",
       "      <td>100562386</td>\n",
       "      <td>Mobiles &amp; Tablets</td>\n",
       "      <td>NaN</td>\n",
       "      <td>0.0</td>\n",
       "      <td>bankalfalah</td>\n",
       "      <td>8/28/2018</td>\n",
       "      <td>Gross</td>\n",
       "      <td>35,599</td>\n",
       "      <td>2018.0</td>\n",
       "      <td>8.0</td>\n",
       "      <td>2018-8</td>\n",
       "      <td>8-2018</td>\n",
       "      <td>FY19</td>\n",
       "      <td>115326.0</td>\n",
       "      <td>NaN</td>\n",
       "      <td>NaN</td>\n",
       "      <td>NaN</td>\n",
       "      <td>NaN</td>\n",
       "      <td>NaN</td>\n",
       "    </tr>\n",
       "    <tr>\n",
       "      <th>584521</th>\n",
       "      <td>905206.0</td>\n",
       "      <td>processing</td>\n",
       "      <td>8/28/2018</td>\n",
       "      <td>MATSAM5B6D7208C6D30</td>\n",
       "      <td>129999.0</td>\n",
       "      <td>2.0</td>\n",
       "      <td>652178.0</td>\n",
       "      <td>100562387</td>\n",
       "      <td>Mobiles &amp; Tablets</td>\n",
       "      <td>NaN</td>\n",
       "      <td>0.0</td>\n",
       "      <td>bankalfalah</td>\n",
       "      <td>8/28/2018</td>\n",
       "      <td>Gross</td>\n",
       "      <td>259,998</td>\n",
       "      <td>2018.0</td>\n",
       "      <td>8.0</td>\n",
       "      <td>2018-7</td>\n",
       "      <td>8-2018</td>\n",
       "      <td>FY19</td>\n",
       "      <td>113474.0</td>\n",
       "      <td>NaN</td>\n",
       "      <td>NaN</td>\n",
       "      <td>NaN</td>\n",
       "      <td>NaN</td>\n",
       "      <td>NaN</td>\n",
       "    </tr>\n",
       "    <tr>\n",
       "      <th>584522</th>\n",
       "      <td>905207.0</td>\n",
       "      <td>processing</td>\n",
       "      <td>8/28/2018</td>\n",
       "      <td>MATSAM5B1509B4696EA</td>\n",
       "      <td>87300.0</td>\n",
       "      <td>2.0</td>\n",
       "      <td>652178.0</td>\n",
       "      <td>100562387</td>\n",
       "      <td>Mobiles &amp; Tablets</td>\n",
       "      <td>NaN</td>\n",
       "      <td>0.0</td>\n",
       "      <td>bankalfalah</td>\n",
       "      <td>8/28/2018</td>\n",
       "      <td>Gross</td>\n",
       "      <td>174,600</td>\n",
       "      <td>2018.0</td>\n",
       "      <td>8.0</td>\n",
       "      <td>2018-7</td>\n",
       "      <td>8-2018</td>\n",
       "      <td>FY19</td>\n",
       "      <td>113474.0</td>\n",
       "      <td>NaN</td>\n",
       "      <td>NaN</td>\n",
       "      <td>NaN</td>\n",
       "      <td>NaN</td>\n",
       "      <td>NaN</td>\n",
       "    </tr>\n",
       "    <tr>\n",
       "      <th>584523</th>\n",
       "      <td>905208.0</td>\n",
       "      <td>processing</td>\n",
       "      <td>8/28/2018</td>\n",
       "      <td>MATSAM5B10F91A9B6AB</td>\n",
       "      <td>108640.0</td>\n",
       "      <td>2.0</td>\n",
       "      <td>652178.0</td>\n",
       "      <td>100562387</td>\n",
       "      <td>Mobiles &amp; Tablets</td>\n",
       "      <td>NaN</td>\n",
       "      <td>0.0</td>\n",
       "      <td>bankalfalah</td>\n",
       "      <td>8/28/2018</td>\n",
       "      <td>Gross</td>\n",
       "      <td>217,280</td>\n",
       "      <td>2018.0</td>\n",
       "      <td>8.0</td>\n",
       "      <td>2018-7</td>\n",
       "      <td>8-2018</td>\n",
       "      <td>FY19</td>\n",
       "      <td>113474.0</td>\n",
       "      <td>NaN</td>\n",
       "      <td>NaN</td>\n",
       "      <td>NaN</td>\n",
       "      <td>NaN</td>\n",
       "      <td>NaN</td>\n",
       "    </tr>\n",
       "    <tr>\n",
       "      <th>584524</th>\n",
       "      <td>NaN</td>\n",
       "      <td>NaN</td>\n",
       "      <td>NaN</td>\n",
       "      <td>NaN</td>\n",
       "      <td>NaN</td>\n",
       "      <td>NaN</td>\n",
       "      <td>NaN</td>\n",
       "      <td>NaN</td>\n",
       "      <td>NaN</td>\n",
       "      <td>NaN</td>\n",
       "      <td>NaN</td>\n",
       "      <td>NaN</td>\n",
       "      <td>NaN</td>\n",
       "      <td>NaN</td>\n",
       "      <td>NaN</td>\n",
       "      <td>NaN</td>\n",
       "      <td>NaN</td>\n",
       "      <td>NaN</td>\n",
       "      <td>NaN</td>\n",
       "      <td>NaN</td>\n",
       "      <td>NaN</td>\n",
       "      <td>NaN</td>\n",
       "      <td>NaN</td>\n",
       "      <td>NaN</td>\n",
       "      <td>NaN</td>\n",
       "      <td>NaN</td>\n",
       "    </tr>\n",
       "  </tbody>\n",
       "</table>\n",
       "<p>137176 rows × 26 columns</p>\n",
       "</div>"
      ],
      "text/plain": [
       "         item_id      status created_at  \\\n",
       "135887  381711.0    complete   1/4/2017   \n",
       "135888  381713.0    complete   1/4/2017   \n",
       "135889  381714.0    complete   1/4/2017   \n",
       "135890  381716.0    complete   1/4/2017   \n",
       "281723  557053.0    complete  8/10/2017   \n",
       "...          ...         ...        ...   \n",
       "584520  905205.0  processing  8/28/2018   \n",
       "584521  905206.0  processing  8/28/2018   \n",
       "584522  905207.0  processing  8/28/2018   \n",
       "584523  905208.0  processing  8/28/2018   \n",
       "584524       NaN         NaN        NaN   \n",
       "\n",
       "                                          sku     price  qty_ordered  \\\n",
       "135887                   jockey_J260-1013-3-M     715.0          1.0   \n",
       "135888                   BO_nonRC-Jeep-Silver     250.0          1.0   \n",
       "135889                      aybeez_ABZ-3338-M     299.0          1.0   \n",
       "135890                       PC_3P COMBED-008     450.0          1.0   \n",
       "281723  JSM_JSM-003-ComboGreenWhitePakShirt-M     180.0          2.0   \n",
       "...                                       ...       ...          ...   \n",
       "584520                    MATHUA5AF70A7D1E50A   35599.0          1.0   \n",
       "584521                    MATSAM5B6D7208C6D30  129999.0          2.0   \n",
       "584522                    MATSAM5B1509B4696EA   87300.0          2.0   \n",
       "584523                    MATSAM5B10F91A9B6AB  108640.0          2.0   \n",
       "584524                                    NaN       NaN          NaN   \n",
       "\n",
       "        grand_total increment_id    category_name_1 sales_commission_code  \\\n",
       "135887       1714.0    100256851      Men's Fashion                   NaN   \n",
       "135888       1714.0    100256851        Kids & Baby                   NaN   \n",
       "135889       1714.0    100256851      Men's Fashion                   NaN   \n",
       "135890       1714.0    100256851      Men's Fashion                   NaN   \n",
       "281723        360.0    100345578                 \\N                   NaN   \n",
       "...             ...          ...                ...                   ...   \n",
       "584520      35899.0    100562386  Mobiles & Tablets                   NaN   \n",
       "584521     652178.0    100562387  Mobiles & Tablets                   NaN   \n",
       "584522     652178.0    100562387  Mobiles & Tablets                   NaN   \n",
       "584523     652178.0    100562387  Mobiles & Tablets                   NaN   \n",
       "584524          NaN          NaN                NaN                   NaN   \n",
       "\n",
       "        discount_amount payment_method Working Date BI Status        MV   \\\n",
       "135887              0.0            cod     1/4/2017       Net       715    \n",
       "135888              0.0            cod     1/4/2017       Net       250    \n",
       "135889              0.0            cod     1/4/2017       Net       299    \n",
       "135890              0.0            cod     1/4/2017       Net       450    \n",
       "281723              0.0            cod    8/10/2017       Net       360    \n",
       "...                 ...            ...          ...       ...        ...   \n",
       "584520              0.0    bankalfalah    8/28/2018     Gross    35,599    \n",
       "584521              0.0    bankalfalah    8/28/2018     Gross   259,998    \n",
       "584522              0.0    bankalfalah    8/28/2018     Gross   174,600    \n",
       "584523              0.0    bankalfalah    8/28/2018     Gross   217,280    \n",
       "584524              NaN            NaN          NaN       NaN        NaN   \n",
       "\n",
       "          Year  Month Customer Since     M-Y    FY  Customer ID  Unnamed: 21  \\\n",
       "135887  2017.0    1.0        2016-10  1-2017  FY17      11660.0          NaN   \n",
       "135888  2017.0    1.0        2016-10  1-2017  FY17      11660.0          NaN   \n",
       "135889  2017.0    1.0        2016-10  1-2017  FY17      11660.0          NaN   \n",
       "135890  2017.0    1.0        2016-10  1-2017  FY17      11660.0          NaN   \n",
       "281723  2017.0    8.0        2016-11  8-2017  FY18      17022.0          NaN   \n",
       "...        ...    ...            ...     ...   ...          ...          ...   \n",
       "584520  2018.0    8.0         2018-8  8-2018  FY19     115326.0          NaN   \n",
       "584521  2018.0    8.0         2018-7  8-2018  FY19     113474.0          NaN   \n",
       "584522  2018.0    8.0         2018-7  8-2018  FY19     113474.0          NaN   \n",
       "584523  2018.0    8.0         2018-7  8-2018  FY19     113474.0          NaN   \n",
       "584524     NaN    NaN            NaN     NaN   NaN          NaN          NaN   \n",
       "\n",
       "        Unnamed: 22  Unnamed: 23  Unnamed: 24  Unnamed: 25  \n",
       "135887          NaN          NaN          NaN          NaN  \n",
       "135888          NaN          NaN          NaN          NaN  \n",
       "135889          NaN          NaN          NaN          NaN  \n",
       "135890          NaN          NaN          NaN          NaN  \n",
       "281723          NaN          NaN          NaN          NaN  \n",
       "...             ...          ...          ...          ...  \n",
       "584520          NaN          NaN          NaN          NaN  \n",
       "584521          NaN          NaN          NaN          NaN  \n",
       "584522          NaN          NaN          NaN          NaN  \n",
       "584523          NaN          NaN          NaN          NaN  \n",
       "584524          NaN          NaN          NaN          NaN  \n",
       "\n",
       "[137176 rows x 26 columns]"
      ]
     },
     "execution_count": 10,
     "metadata": {},
     "output_type": "execute_result"
    }
   ],
   "source": [
    "data[data['sales_commission_code'].isna() == True]"
   ]
  },
  {
   "cell_type": "code",
   "execution_count": 11,
   "id": "87060fe1",
   "metadata": {},
   "outputs": [],
   "source": [
    "data['sales_commission_code'].fillna('No Commission', inplace=True)"
   ]
  },
  {
   "cell_type": "markdown",
   "id": "dbebfcd0",
   "metadata": {},
   "source": [
    "## 5. Mengubah nama kolom MV dikarenakan adanya salah ketik dari kolom tersebut\n",
    "Pengubahan ini dilakukan agar proses explanatory data analysis menjadi lebih lancar"
   ]
  },
  {
   "cell_type": "code",
   "execution_count": 12,
   "id": "dcc3c485",
   "metadata": {},
   "outputs": [],
   "source": [
    "data.rename(columns={' MV ':'MV'},inplace=True)"
   ]
  },
  {
   "cell_type": "markdown",
   "id": "4a7260f8",
   "metadata": {},
   "source": [
    "## 6. Menghapus kolom yang tidak dibutuhkan dari dataset Pakistan Largest Ecommerce Dataset\n",
    "Kolom dengan nama Unnamed tidak memiliki isi sama sekali dan memberikan persentase missing value sebesar 100%. Oleh karenanya dilakukan penghapusan"
   ]
  },
  {
   "cell_type": "code",
   "execution_count": 13,
   "id": "1c2c4db2",
   "metadata": {},
   "outputs": [],
   "source": [
    "data.drop(columns=['Unnamed: 21', 'Unnamed: 22', 'Unnamed: 23', 'Unnamed: 24', 'Unnamed: 25'], axis = 1, inplace=True)"
   ]
  },
  {
   "cell_type": "markdown",
   "id": "d5f9f053",
   "metadata": {},
   "source": [
    "## 7. Menghapus missing value sisanya\n",
    "Missing value lainnya sisanya dihapus karena persentase datanya sangat kecil"
   ]
  },
  {
   "cell_type": "code",
   "execution_count": 14,
   "id": "948e8f29",
   "metadata": {},
   "outputs": [
    {
     "data": {
      "text/plain": [
       "item_id                    1\n",
       "status                    16\n",
       "created_at                 1\n",
       "sku                       21\n",
       "price                      1\n",
       "qty_ordered                1\n",
       "grand_total                1\n",
       "increment_id               1\n",
       "category_name_1          165\n",
       "sales_commission_code      0\n",
       "discount_amount            1\n",
       "payment_method             1\n",
       "Working Date               1\n",
       "BI Status                  1\n",
       "MV                         1\n",
       "Year                       1\n",
       "Month                      1\n",
       "Customer Since            12\n",
       "M-Y                        1\n",
       "FY                         1\n",
       "Customer ID               12\n",
       "dtype: int64"
      ]
     },
     "execution_count": 14,
     "metadata": {},
     "output_type": "execute_result"
    }
   ],
   "source": [
    "data.isna().sum()"
   ]
  },
  {
   "cell_type": "code",
   "execution_count": 15,
   "id": "e6133b0f",
   "metadata": {},
   "outputs": [],
   "source": [
    "data = data.dropna()"
   ]
  },
  {
   "cell_type": "markdown",
   "id": "7432f78b",
   "metadata": {},
   "source": [
    "## 8. akhirnya permasalahan missing value sudah teratasi"
   ]
  },
  {
   "cell_type": "code",
   "execution_count": 16,
   "id": "2ada8616",
   "metadata": {},
   "outputs": [
    {
     "data": {
      "text/plain": [
       "item_id                  0\n",
       "status                   0\n",
       "created_at               0\n",
       "sku                      0\n",
       "price                    0\n",
       "qty_ordered              0\n",
       "grand_total              0\n",
       "increment_id             0\n",
       "category_name_1          0\n",
       "sales_commission_code    0\n",
       "discount_amount          0\n",
       "payment_method           0\n",
       "Working Date             0\n",
       "BI Status                0\n",
       "MV                       0\n",
       "Year                     0\n",
       "Month                    0\n",
       "Customer Since           0\n",
       "M-Y                      0\n",
       "FY                       0\n",
       "Customer ID              0\n",
       "dtype: int64"
      ]
     },
     "execution_count": 16,
     "metadata": {},
     "output_type": "execute_result"
    }
   ],
   "source": [
    "data.isna().sum()"
   ]
  },
  {
   "cell_type": "markdown",
   "id": "8ef62525",
   "metadata": {},
   "source": [
    "## 9. Memperbaiki metode pembayaran\n",
    "Dalam metode pembayaran dengan sintaks data['payment_method'].unique() dapat diketahui bahwa terdapat beberapa duplikasi seperti Easypay_MA, easypay_voucher dan Easypay yang memiliki kesamaan sehingga dapat disatukan menjadi Easypay. "
   ]
  },
  {
   "cell_type": "code",
   "execution_count": 17,
   "id": "224b6fc6",
   "metadata": {},
   "outputs": [
    {
     "data": {
      "text/plain": [
       "array(['cod', 'ublcreditcard', 'mygateway', 'customercredit',\n",
       "       'cashatdoorstep', 'mcblite', 'internetbanking', 'marketingexpense',\n",
       "       'productcredit', 'financesettlement', 'Payaxis', 'jazzvoucher',\n",
       "       'jazzwallet', 'Easypay', 'Easypay_MA', 'easypay_voucher',\n",
       "       'bankalfalah', 'apg'], dtype=object)"
      ]
     },
     "execution_count": 17,
     "metadata": {},
     "output_type": "execute_result"
    }
   ],
   "source": [
    "data['payment_method'].unique()"
   ]
  },
  {
   "cell_type": "code",
   "execution_count": 18,
   "id": "3d476f73",
   "metadata": {},
   "outputs": [],
   "source": [
    "payment_to_replace = {'cashatdoorstep': 'cod', 'Easypay_MA':'Easypay', 'easypay_voucher':'Easypay',\n",
    "                      'jazzvoucher':'jazzwallet','internetbanking':'Payaxis','mygateway':'Payaxis',\n",
    "                      'marketingexpense':'Payaxis'} \n",
    "data = data.replace({\"payment_method\": payment_to_replace})"
   ]
  },
  {
   "cell_type": "markdown",
   "id": "a65dfccc",
   "metadata": {},
   "source": [
    "## 10. Menghapus nilai anomali dari beberapa kolom"
   ]
  },
  {
   "cell_type": "code",
   "execution_count": 19,
   "id": "c7c83920",
   "metadata": {},
   "outputs": [],
   "source": [
    "data.drop(data[(data['status']=='\\\\N')].index,inplace=True)"
   ]
  },
  {
   "cell_type": "code",
   "execution_count": 20,
   "id": "af21369b",
   "metadata": {},
   "outputs": [],
   "source": [
    "data.drop(data[(data['category_name_1']=='\\\\N')].index,inplace=True)"
   ]
  },
  {
   "cell_type": "code",
   "execution_count": 21,
   "id": "a014c2c8",
   "metadata": {},
   "outputs": [],
   "source": [
    "data.drop(data[(data['BI Status']=='#REF!')].index,inplace=True)"
   ]
  },
  {
   "cell_type": "code",
   "execution_count": 22,
   "id": "b08620f6",
   "metadata": {},
   "outputs": [],
   "source": [
    "data.drop(data[(data['sales_commission_code']=='\\\\N')].index,inplace=True)"
   ]
  },
  {
   "cell_type": "markdown",
   "id": "7cfb28b3",
   "metadata": {},
   "source": [
    "# statistika\n",
    "pada analisa statistika capstone modul 2 ini hanya dibutuhkan analisa statistika deskriptif saja untuk pengolahan data. "
   ]
  },
  {
   "cell_type": "markdown",
   "id": "fe14862a",
   "metadata": {},
   "source": [
    "## Analisa Statistika Deskriptif untuk data Numerikal\n",
    "Analisa statistika deskriptif untuk data numerikal terbagi menjadi 2 yaitu pengukuran tendency sentral dan pengukuran variability"
   ]
  },
  {
   "cell_type": "markdown",
   "id": "68a0cc79",
   "metadata": {},
   "source": [
    "### 1. Pengukuran Tendency Sentral\n",
    "Dilakukan untuk mengetahui mean, median, dan modus dari data numerikal"
   ]
  },
  {
   "cell_type": "markdown",
   "id": "0479ab60",
   "metadata": {},
   "source": [
    "Dengan fungsi data.describe langsung dapat diketahui mean, dan median (50%) dari data tersebut"
   ]
  },
  {
   "cell_type": "code",
   "execution_count": 23,
   "id": "01d916be",
   "metadata": {},
   "outputs": [
    {
     "data": {
      "text/html": [
       "<div>\n",
       "<style scoped>\n",
       "    .dataframe tbody tr th:only-of-type {\n",
       "        vertical-align: middle;\n",
       "    }\n",
       "\n",
       "    .dataframe tbody tr th {\n",
       "        vertical-align: top;\n",
       "    }\n",
       "\n",
       "    .dataframe thead th {\n",
       "        text-align: right;\n",
       "    }\n",
       "</style>\n",
       "<table border=\"1\" class=\"dataframe\">\n",
       "  <thead>\n",
       "    <tr style=\"text-align: right;\">\n",
       "      <th></th>\n",
       "      <th>mean</th>\n",
       "      <th>50%</th>\n",
       "    </tr>\n",
       "  </thead>\n",
       "  <tbody>\n",
       "    <tr>\n",
       "      <th>item_id</th>\n",
       "      <td>684022.733758</td>\n",
       "      <td>766343.5</td>\n",
       "    </tr>\n",
       "    <tr>\n",
       "      <th>price</th>\n",
       "      <td>8287.722955</td>\n",
       "      <td>1000.0</td>\n",
       "    </tr>\n",
       "    <tr>\n",
       "      <th>qty_ordered</th>\n",
       "      <td>1.415676</td>\n",
       "      <td>1.0</td>\n",
       "    </tr>\n",
       "    <tr>\n",
       "      <th>grand_total</th>\n",
       "      <td>10968.803276</td>\n",
       "      <td>2427.2</td>\n",
       "    </tr>\n",
       "    <tr>\n",
       "      <th>discount_amount</th>\n",
       "      <td>664.711946</td>\n",
       "      <td>0.0</td>\n",
       "    </tr>\n",
       "    <tr>\n",
       "      <th>Year</th>\n",
       "      <td>2017.506163</td>\n",
       "      <td>2018.0</td>\n",
       "    </tr>\n",
       "    <tr>\n",
       "      <th>Month</th>\n",
       "      <td>5.570378</td>\n",
       "      <td>5.0</td>\n",
       "    </tr>\n",
       "    <tr>\n",
       "      <th>Customer ID</th>\n",
       "      <td>60539.387151</td>\n",
       "      <td>71002.0</td>\n",
       "    </tr>\n",
       "  </tbody>\n",
       "</table>\n",
       "</div>"
      ],
      "text/plain": [
       "                          mean       50%\n",
       "item_id          684022.733758  766343.5\n",
       "price              8287.722955    1000.0\n",
       "qty_ordered           1.415676       1.0\n",
       "grand_total       10968.803276    2427.2\n",
       "discount_amount     664.711946       0.0\n",
       "Year               2017.506163    2018.0\n",
       "Month                 5.570378       5.0\n",
       "Customer ID       60539.387151   71002.0"
      ]
     },
     "execution_count": 23,
     "metadata": {},
     "output_type": "execute_result"
    }
   ],
   "source": [
    "data.describe().T[['mean', '50%']]"
   ]
  },
  {
   "cell_type": "markdown",
   "id": "e17363dd",
   "metadata": {},
   "source": [
    "Sedangkan untuk modus dapat diketahui dari kodingan di bawah ini"
   ]
  },
  {
   "cell_type": "code",
   "execution_count": 24,
   "id": "a22d6947",
   "metadata": {},
   "outputs": [
    {
     "name": "stdout",
     "output_type": "stream",
     "text": [
      "Besarnya modus dari data\n",
      "--------------------------------------------------\n",
      "modus_price : 1000.0\n",
      "modus_qty_ordered : 1.0\n",
      "modus_grand_total: 0.0\n",
      "modus_discount_amount: 0.0\n"
     ]
    }
   ],
   "source": [
    "modus_price = data['price'].mode()[0]\n",
    "modus_qty_ordered =data['qty_ordered'].mode()[0]\n",
    "modus_grand_total =data['grand_total'].mode()[0]\n",
    "modus_discount_amount =data['discount_amount'].mode()[0]\n",
    "print('Besarnya modus dari data')\n",
    "print('-'*50)\n",
    "print('modus_price :', modus_price)\n",
    "print('modus_qty_ordered :', modus_qty_ordered)\n",
    "print('modus_grand_total:', modus_grand_total)\n",
    "print('modus_discount_amount:', modus_discount_amount)"
   ]
  },
  {
   "cell_type": "markdown",
   "id": "be3067d9",
   "metadata": {},
   "source": [
    "### 2. Pengukuran Variabilitas\n",
    "Dilakukan untuk mengetahui range data, standar deviasi, dan IQR dari data numerikal"
   ]
  },
  {
   "cell_type": "markdown",
   "id": "9344680f",
   "metadata": {},
   "source": [
    "Untuk range data dapat diketahui dari kodingan di bawah ini"
   ]
  },
  {
   "cell_type": "code",
   "execution_count": 25,
   "id": "31e7880c",
   "metadata": {},
   "outputs": [
    {
     "name": "stdout",
     "output_type": "stream",
     "text": [
      "Besarnya range dari data\n",
      "--------------------------------------------------\n",
      "range_price : 1012625.9\n",
      "range_qty_ordered : 499.0\n",
      "range_grand_total: 1041073.0\n",
      "range_discount_amount: 50355.25\n"
     ]
    }
   ],
   "source": [
    "range_price = data['price'].max()-data['price'].min()\n",
    "range_qty_ordered =data['qty_ordered'].max()-data['qty_ordered'].min()\n",
    "range_grand_total =data['grand_total'].max()-data['grand_total'].min()\n",
    "range_discount_amount =data['discount_amount'].max()-data['discount_amount'].min()\n",
    "print('Besarnya range dari data')\n",
    "print('-'*50)\n",
    "print('range_price :', range_price)\n",
    "print('range_qty_ordered :', range_qty_ordered)\n",
    "print('range_grand_total:', range_grand_total)\n",
    "print('range_discount_amount:', range_discount_amount)"
   ]
  },
  {
   "cell_type": "markdown",
   "id": "263237a7",
   "metadata": {},
   "source": [
    "Dengan fungsi data.describe langsung dapat diketahui standar deviasinya dari data tersebut"
   ]
  },
  {
   "cell_type": "code",
   "execution_count": 26,
   "id": "61c13b7f",
   "metadata": {},
   "outputs": [
    {
     "data": {
      "text/html": [
       "<div>\n",
       "<style scoped>\n",
       "    .dataframe tbody tr th:only-of-type {\n",
       "        vertical-align: middle;\n",
       "    }\n",
       "\n",
       "    .dataframe tbody tr th {\n",
       "        vertical-align: top;\n",
       "    }\n",
       "\n",
       "    .dataframe thead th {\n",
       "        text-align: right;\n",
       "    }\n",
       "</style>\n",
       "<table border=\"1\" class=\"dataframe\">\n",
       "  <thead>\n",
       "    <tr style=\"text-align: right;\">\n",
       "      <th></th>\n",
       "      <th>std</th>\n",
       "    </tr>\n",
       "  </thead>\n",
       "  <tbody>\n",
       "    <tr>\n",
       "      <th>item_id</th>\n",
       "      <td>207244.487222</td>\n",
       "    </tr>\n",
       "    <tr>\n",
       "      <th>price</th>\n",
       "      <td>17568.439706</td>\n",
       "    </tr>\n",
       "    <tr>\n",
       "      <th>qty_ordered</th>\n",
       "      <td>2.734644</td>\n",
       "    </tr>\n",
       "    <tr>\n",
       "      <th>grand_total</th>\n",
       "      <td>27698.797524</td>\n",
       "    </tr>\n",
       "    <tr>\n",
       "      <th>discount_amount</th>\n",
       "      <td>1691.442444</td>\n",
       "    </tr>\n",
       "    <tr>\n",
       "      <th>Year</th>\n",
       "      <td>0.739318</td>\n",
       "    </tr>\n",
       "    <tr>\n",
       "      <th>Month</th>\n",
       "      <td>3.272246</td>\n",
       "    </tr>\n",
       "    <tr>\n",
       "      <th>Customer ID</th>\n",
       "      <td>40371.790737</td>\n",
       "    </tr>\n",
       "  </tbody>\n",
       "</table>\n",
       "</div>"
      ],
      "text/plain": [
       "                           std\n",
       "item_id          207244.487222\n",
       "price             17568.439706\n",
       "qty_ordered           2.734644\n",
       "grand_total       27698.797524\n",
       "discount_amount    1691.442444\n",
       "Year                  0.739318\n",
       "Month                 3.272246\n",
       "Customer ID       40371.790737"
      ]
     },
     "execution_count": 26,
     "metadata": {},
     "output_type": "execute_result"
    }
   ],
   "source": [
    "data.describe().T[['std']]"
   ]
  },
  {
   "cell_type": "markdown",
   "id": "6d351603",
   "metadata": {},
   "source": [
    "Untuk IQR data dapat diketahui dari kodingan di bawah ini"
   ]
  },
  {
   "cell_type": "code",
   "execution_count": 27,
   "id": "2307dad4",
   "metadata": {},
   "outputs": [
    {
     "name": "stdout",
     "output_type": "stream",
     "text": [
      "Besarnya IQR dari data\n",
      "--------------------------------------------------\n",
      "IQR_price : 7990.0\n",
      "IQR_qty_ordered : 0.0\n",
      "IQR_grand_total: 9900.0\n",
      "IQR_discount_amount: 371.175\n"
     ]
    }
   ],
   "source": [
    "IQR_price = data.describe()['price']['75%']-data.describe()['price']['25%']\n",
    "IQR_qty_ordered =data.describe()['qty_ordered']['75%']-data.describe()['qty_ordered']['25%']\n",
    "IQR_grand_total =data.describe()['grand_total']['75%']-data.describe()['grand_total']['25%']\n",
    "IQR_discount_amount =data.describe()['discount_amount']['75%']-data.describe()['discount_amount']['25%']\n",
    "print('Besarnya IQR dari data')\n",
    "print('-'*50)\n",
    "print('IQR_price :', IQR_price)\n",
    "print('IQR_qty_ordered :', IQR_qty_ordered)\n",
    "print('IQR_grand_total:', IQR_grand_total)\n",
    "print('IQR_discount_amount:', IQR_discount_amount)"
   ]
  },
  {
   "cell_type": "markdown",
   "id": "bbdcf16e",
   "metadata": {},
   "source": [
    "## Analisa Statistika Deskriptif untuk data Kategorikal\n",
    "Dilakukan untuk mengetahui count, unique, top, dan freq dari data"
   ]
  },
  {
   "cell_type": "code",
   "execution_count": 28,
   "id": "9c9ece61",
   "metadata": {},
   "outputs": [
    {
     "data": {
      "text/html": [
       "<div>\n",
       "<style scoped>\n",
       "    .dataframe tbody tr th:only-of-type {\n",
       "        vertical-align: middle;\n",
       "    }\n",
       "\n",
       "    .dataframe tbody tr th {\n",
       "        vertical-align: top;\n",
       "    }\n",
       "\n",
       "    .dataframe thead th {\n",
       "        text-align: right;\n",
       "    }\n",
       "</style>\n",
       "<table border=\"1\" class=\"dataframe\">\n",
       "  <thead>\n",
       "    <tr style=\"text-align: right;\">\n",
       "      <th></th>\n",
       "      <th>status</th>\n",
       "      <th>created_at</th>\n",
       "      <th>sku</th>\n",
       "      <th>increment_id</th>\n",
       "      <th>category_name_1</th>\n",
       "      <th>sales_commission_code</th>\n",
       "      <th>payment_method</th>\n",
       "      <th>Working Date</th>\n",
       "      <th>BI Status</th>\n",
       "      <th>MV</th>\n",
       "      <th>Customer Since</th>\n",
       "      <th>M-Y</th>\n",
       "      <th>FY</th>\n",
       "    </tr>\n",
       "  </thead>\n",
       "  <tbody>\n",
       "    <tr>\n",
       "      <th>count</th>\n",
       "      <td>243714</td>\n",
       "      <td>243714</td>\n",
       "      <td>243714</td>\n",
       "      <td>243714</td>\n",
       "      <td>243714</td>\n",
       "      <td>243714</td>\n",
       "      <td>243714</td>\n",
       "      <td>243714</td>\n",
       "      <td>243714</td>\n",
       "      <td>243714</td>\n",
       "      <td>243714</td>\n",
       "      <td>243714</td>\n",
       "      <td>243714</td>\n",
       "    </tr>\n",
       "    <tr>\n",
       "      <th>unique</th>\n",
       "      <td>13</td>\n",
       "      <td>786</td>\n",
       "      <td>47921</td>\n",
       "      <td>183796</td>\n",
       "      <td>15</td>\n",
       "      <td>7175</td>\n",
       "      <td>11</td>\n",
       "      <td>786</td>\n",
       "      <td>3</td>\n",
       "      <td>7774</td>\n",
       "      <td>26</td>\n",
       "      <td>26</td>\n",
       "      <td>3</td>\n",
       "    </tr>\n",
       "    <tr>\n",
       "      <th>top</th>\n",
       "      <td>complete</td>\n",
       "      <td>3/28/2018</td>\n",
       "      <td>MATSAM59DB75ADB2F80</td>\n",
       "      <td>100476608</td>\n",
       "      <td>Mobiles &amp; Tablets</td>\n",
       "      <td>No Commission</td>\n",
       "      <td>cod</td>\n",
       "      <td>3/28/2018</td>\n",
       "      <td>Net</td>\n",
       "      <td>999</td>\n",
       "      <td>2016-7</td>\n",
       "      <td>3-2018</td>\n",
       "      <td>FY18</td>\n",
       "    </tr>\n",
       "    <tr>\n",
       "      <th>freq</th>\n",
       "      <td>84168</td>\n",
       "      <td>6256</td>\n",
       "      <td>2172</td>\n",
       "      <td>43</td>\n",
       "      <td>51126</td>\n",
       "      <td>136977</td>\n",
       "      <td>109546</td>\n",
       "      <td>6256</td>\n",
       "      <td>84337</td>\n",
       "      <td>3917</td>\n",
       "      <td>35565</td>\n",
       "      <td>41942</td>\n",
       "      <td>165220</td>\n",
       "    </tr>\n",
       "  </tbody>\n",
       "</table>\n",
       "</div>"
      ],
      "text/plain": [
       "          status created_at                  sku increment_id  \\\n",
       "count     243714     243714               243714       243714   \n",
       "unique        13        786                47921       183796   \n",
       "top     complete  3/28/2018  MATSAM59DB75ADB2F80    100476608   \n",
       "freq       84168       6256                 2172           43   \n",
       "\n",
       "          category_name_1 sales_commission_code payment_method Working Date  \\\n",
       "count              243714                243714         243714       243714   \n",
       "unique                 15                  7175             11          786   \n",
       "top     Mobiles & Tablets         No Commission            cod    3/28/2018   \n",
       "freq                51126                136977         109546         6256   \n",
       "\n",
       "       BI Status      MV Customer Since     M-Y      FY  \n",
       "count     243714  243714         243714  243714  243714  \n",
       "unique         3    7774             26      26       3  \n",
       "top          Net    999          2016-7  3-2018    FY18  \n",
       "freq       84337    3917          35565   41942  165220  "
      ]
     },
     "execution_count": 28,
     "metadata": {},
     "output_type": "execute_result"
    }
   ],
   "source": [
    "data.describe(include='O')"
   ]
  },
  {
   "cell_type": "markdown",
   "id": "024ae44b",
   "metadata": {},
   "source": [
    "# Business Question, Analisis dan Saran"
   ]
  },
  {
   "cell_type": "markdown",
   "id": "8f3173a1",
   "metadata": {},
   "source": [
    "## 1. Berapa total besarnya sales penjualan setiap bulannya, dari Juli 2016 hingga Agustus 2018\n",
    "Dikarenakan data berbentuk time series maka visualisasi dari business question dilakukan dengan grafik line plot."
   ]
  },
  {
   "cell_type": "code",
   "execution_count": 29,
   "id": "ea5ac43c",
   "metadata": {},
   "outputs": [],
   "source": [
    "data['Year'] = data['Year'].astype('int')\n",
    "data['Month'] = data['Month'].astype('int')"
   ]
  },
  {
   "cell_type": "code",
   "execution_count": 30,
   "id": "7430e5ae",
   "metadata": {},
   "outputs": [
    {
     "data": {
      "image/png": "[encoded data removed]",
      "text/plain": [
       "<Figure size 504x504 with 1 Axes>"
      ]
     },
     "metadata": {},
     "output_type": "display_data"
    }
   ],
   "source": [
    "a = data.groupby(['Year','Month'])['grand_total'].sum()\n",
    "plt.figure(figsize=(7,7))\n",
    "a.plot(x=['Year','Month'], y = 'grand_total', kind='line')\n",
    "plt.title('sales dari Juni 2016-Agustus 2018', fontsize=20)\n",
    "plt.xticks(np.arange(26), rotation=90)\n",
    "plt.xlabel('Year,Month')\n",
    "plt.ylabel('Total Price')\n",
    "plt.show()"
   ]
  },
  {
   "cell_type": "markdown",
   "id": "1df0d548",
   "metadata": {},
   "source": [
    "### Analisis"
   ]
  },
  {
   "cell_type": "markdown",
   "id": "48a9a9f4",
   "metadata": {},
   "source": [
    "Berdasarkan grafik sales penjualan setiap bulannya, dari Juli 2016 hingga Agustus 2018 diketahui bahwa terdapat fluktuasi terhadap total harga penjualan. Namun dari fluktuasi tersebut terdapat trend signifikan yang mengarah kepada peningkatan total harga penjualan. Hal ini sejajar dengan fakta bahwa Industri e-commerce di Pakistan mengalami pertumbuhan yang signifikan selama beberapa tahun terakhir dan keuntungan industri ini diperkirakan mencapai Rs. 51,8 miliar pada Tahun 2017 yang meningkat menjadi 99,3 miliar pada Tahun 2018. Peningkatan ini menunjukkan pertumbuhan sebesar 92%(KCCI, 2019).\n",
    "\n",
    "Source : \n",
    "KCCI. 2019. E-commerce: A plausible solution to Pakistanâ€™s economic woes. Karachi Chamber of Commerce & Industry"
   ]
  },
  {
   "cell_type": "markdown",
   "id": "c39c53c8",
   "metadata": {},
   "source": [
    "### Rekomendasi"
   ]
  },
  {
   "cell_type": "markdown",
   "id": "4c78bfe5",
   "metadata": {},
   "source": [
    "Lakukan berbagai promosi untuk generasi muda (dibawah 29 tahun) untuk menggunakan Ecommerce!  Rekomendasi ini didasari oleh informasi 64% penduduk Pakistan berusia di bawah 29 tahun dan lebih terbuka terhadap teknologi informasi dan komunikasi (Pakistan Goverment, 2019).\n",
    "\n",
    "Source : \n",
    "Government of Pakistan Ministry of Commerce & Textile (Commerce Division). 2019. E-COMMERCE POLICY FRAMEWORK OF PAKISTAN."
   ]
  },
  {
   "cell_type": "markdown",
   "id": "29377566",
   "metadata": {},
   "source": [
    "## 2. Berapa total rata-rata harga sales penjualan setiap bulan\n",
    "Fungsi agregasi rata-rata dilakukan karena data sales penjualan perbulannya tidak lengkap sebanyak 36 bulan."
   ]
  },
  {
   "cell_type": "code",
   "execution_count": 31,
   "id": "dd99e2d3",
   "metadata": {},
   "outputs": [
    {
     "data": {
      "image/png": "[encoded data removed]",
      "text/plain": [
       "<Figure size 504x504 with 1 Axes>"
      ]
     },
     "metadata": {},
     "output_type": "display_data"
    }
   ],
   "source": [
    "b = data.groupby('Month')['grand_total'].mean()\n",
    "plt.figure(figsize=(7,7))\n",
    "b.plot(x='Month', y = 'grand_total', kind='bar')\n",
    "plt.title(' rata-rata sales penjualan setiap bulan')\n",
    "plt.xticks(np.arange(12), rotation=0)\n",
    "plt.xlabel('Month')\n",
    "plt.ylabel('Total Price')\n",
    "plt.show()"
   ]
  },
  {
   "cell_type": "markdown",
   "id": "9622221d",
   "metadata": {},
   "source": [
    "### Analisis"
   ]
  },
  {
   "cell_type": "markdown",
   "id": "2ed0c80f",
   "metadata": {},
   "source": [
    "Berdasarkan grafik rata-rata besarnya sales penjualan setiap bulan diketahui bahwa 3 rata-rata harga penjualan tertinggi terjadi di bulan Mei, Juni, dan Juli. Hal ini bertepatan dengan bulan puasa yang terjadi di periode tersebut yakni bulan puasa tahun 2016 (5 Juni- 5 Juli), bulan puasa tahun 2017 (25 Mei-25 Juni), dan bulan puasa tahun 2018 (15 Mei- 15 Juni). Informasi ini sesuai dengan berita bahwa Heavy Traffic pembelian di ecommerce Pakistan terjadi di Idul Fitri(bulan puasa).\n",
    "\n",
    "Source :\n",
    "https://www.trade.gov/country-commercial-guides/pakistan-e"
   ]
  },
  {
   "cell_type": "markdown",
   "id": "8ef1b547",
   "metadata": {},
   "source": [
    "### Rekomendasi"
   ]
  },
  {
   "cell_type": "markdown",
   "id": "21d0897d",
   "metadata": {},
   "source": [
    "Tingkatkan pemberian promosi dan diskon di bulan puasa! Berdasarkan grafik diskon Juli 2016 hingga Agustus 2018 dibawah ini, pemberian diskon masih kurang tepat karena tidak sesuai dengan Heavy Traffic pembelian di ecommerce. Diharapkan dengan banyaknya promosi dan diskon dapat mendongkrak penjualan di bulan tersebut."
   ]
  },
  {
   "cell_type": "code",
   "execution_count": 32,
   "id": "650236ea",
   "metadata": {},
   "outputs": [
    {
     "data": {
      "image/png": "[encoded data removed]",
      "text/plain": [
       "<Figure size 504x504 with 1 Axes>"
      ]
     },
     "metadata": {},
     "output_type": "display_data"
    }
   ],
   "source": [
    "i = data.groupby('Month')['discount_amount'].mean()\n",
    "plt.figure(figsize=(7,7))\n",
    "i.plot(x='Month', y = 'diskon', kind='bar')\n",
    "plt.title(' rata-rata diskon penjualan setiap bulan')\n",
    "plt.xticks(np.arange(12), rotation=0)\n",
    "plt.xlabel('Month')\n",
    "plt.ylabel('diskon')\n",
    "plt.show()"
   ]
  },
  {
   "cell_type": "markdown",
   "id": "2e7edc42",
   "metadata": {},
   "source": [
    "## 3. Bagaimana rata-rata sales penjualan setiap tahunnya\n",
    "Fungsi Agregat mean digunakan karena jumlah data sales penjualan per tahun tidak full 36 bulan/3 tahun"
   ]
  },
  {
   "cell_type": "code",
   "execution_count": 33,
   "id": "c2ec25d8",
   "metadata": {},
   "outputs": [
    {
     "data": {
      "image/png": "[encoded data removed]",
      "text/plain": [
       "<Figure size 504x504 with 1 Axes>"
      ]
     },
     "metadata": {},
     "output_type": "display_data"
    }
   ],
   "source": [
    "c = data.groupby('Year')['grand_total'].mean()\n",
    "plt.figure(figsize=(7,7))\n",
    "c.plot(x='Year', y = 'grand_total', kind='bar')\n",
    "plt.title('rata-rata sales penjualan setiap tahunnya')\n",
    "plt.xticks(np.arange(3), rotation=0)\n",
    "plt.xlabel('Year')\n",
    "plt.ylabel('Total Price')\n",
    "plt.show()"
   ]
  },
  {
   "cell_type": "markdown",
   "id": "98b4cfac",
   "metadata": {},
   "source": [
    "### Analisis "
   ]
  },
  {
   "cell_type": "markdown",
   "id": "5c031607",
   "metadata": {},
   "source": [
    "Rata-Rata Sales penjualan meningkat setiap tahunnya. Hal ini sesuai dengan informasi bahwa Industri e-commerce di Pakistan mengalami pertumbuhan yang signifikan dalam beberapa tahun terakhir. (Javed, 2020)\n",
    "\n",
    "Source : \n",
    "Javed, A. (2020). Prospects and Problems for E-commerce in Pakistan. Asian Journal of Economics, Finance and Management, 131-139."
   ]
  },
  {
   "cell_type": "markdown",
   "id": "cc63d0b7",
   "metadata": {},
   "source": [
    "### Rekomendasi"
   ]
  },
  {
   "cell_type": "markdown",
   "id": "bf5a5f34",
   "metadata": {},
   "source": [
    "Sebaiknya penyedia Platform Ecommerce Pakistan melakukan kerja sama dengan pemerintah Pakistan dalam meningkatkan penjual dan pembeli di platform Ecommerce. Keberadaan Ecommerce ini dapat menjadi lebih signifikan dalam menyediakan lapangan kerja bagi sekitar 130 juta pemuda Pakistan dalam 30 tahun ke depan. (Pakistan Goverment, 2019)\n",
    "\n",
    "Source :\n",
    "Government of Pakistan Ministry of Commerce & Textile (Commerce Division). 2019. E-COMMERCE POLICY FRAMEWORK OF PAKISTAN."
   ]
  },
  {
   "cell_type": "markdown",
   "id": "d68fd631",
   "metadata": {},
   "source": [
    "## 4. Jumlah pembelian per kategori barang \n",
    "Business Question ini bertujuan untuk mengetahui kategori barang mana saja yang menjadi top seller dari Juli 2016 hingga Agustus 2018"
   ]
  },
  {
   "cell_type": "code",
   "execution_count": 34,
   "id": "97602843",
   "metadata": {},
   "outputs": [],
   "source": [
    "kategori_barang=data['category_name_1'].value_counts().values\n",
    "jumlah=data['category_name_1'].value_counts().index"
   ]
  },
  {
   "cell_type": "code",
   "execution_count": 35,
   "id": "437d3292",
   "metadata": {},
   "outputs": [
    {
     "data": {
      "image/png": "[encoded data removed]",
      "text/plain": [
       "<Figure size 504x504 with 1 Axes>"
      ]
     },
     "metadata": {},
     "output_type": "display_data"
    }
   ],
   "source": [
    "plt.figure(figsize=(7,7))\n",
    "sns.barplot(x=jumlah, y=kategori_barang, data=data)\n",
    "plt.title('Jumlah pembelian per kategori barang')\n",
    "plt.xticks(np.arange(16), rotation=90)\n",
    "plt.xlabel('kategori barang')\n",
    "plt.ylabel('jumlah pembelian')\n",
    "plt.show()"
   ]
  },
  {
   "cell_type": "markdown",
   "id": "abce625a",
   "metadata": {},
   "source": [
    "### Analisis"
   ]
  },
  {
   "cell_type": "markdown",
   "id": "26542559",
   "metadata": {},
   "source": [
    "Berdasarkan grafik diatas diketahui bahwa jumlah pembelian per kategori barang terbanyak adalah mobile & tablet sebesar 51126 barang yang disusul dengan mens fashion sebesar 35345 barang. Hal ini sejajar dengan informasi bahwa alasan utama banyaknya pembelian online mobile & tablet adalah harganya yang ekonomis dibandingkan dengan berbelanja secara offline (Khan dkk, 2014) dan pria Pakistan senang membeli pakaian bermerek dibandingkan dengan wanita pakistan saat berbelanja pakaian (Shabbir, 2012). \n",
    "\n",
    "Source :\n",
    "- Khan, A. S., Ahmed, F., Yousuf, H., Hassan, S., & Zia, S. A. (2014). Online shopping behavior in Pakistan. In International Conference on Marketing. Institute of Business Administration in Karachi (pp. 1-42).\n",
    "- Shabbir, M. J. (2012). Consumer shopping characteristics approach and gender difference in Pakistan. International journal of trends in marketing management, (1)."
   ]
  },
  {
   "cell_type": "markdown",
   "id": "612c6434",
   "metadata": {},
   "source": [
    "### Rekomendasi"
   ]
  },
  {
   "cell_type": "markdown",
   "id": "0a5dcc87",
   "metadata": {},
   "source": [
    "perbanyak diskon pada kedua item tersebut untuk meningkatkan jumlah pembelian per kategori barang"
   ]
  },
  {
   "cell_type": "markdown",
   "id": "1673db37",
   "metadata": {},
   "source": [
    "## 5. Jumlah total harga pembelian per masing masing kategori barang\n",
    "Business Question ini bertujuan untuk mengetahui berapa total biaya yang dihabiskan oleh customer pada kategori barang tertentu"
   ]
  },
  {
   "cell_type": "code",
   "execution_count": 37,
   "id": "99a42020",
   "metadata": {},
   "outputs": [
    {
     "data": {
      "image/png": "[encoded data removed]",
      "text/plain": [
       "<Figure size 504x504 with 1 Axes>"
      ]
     },
     "metadata": {},
     "output_type": "display_data"
    }
   ],
   "source": [
    "d=data.groupby('category_name_1')['grand_total'].sum()\n",
    "plt.figure(figsize=(7,7))\n",
    "d.plot(x='category_name_1', y='grand_total', kind='bar')\n",
    "plt.title('Jumlah total harga pembelian per masing masing kategori barang', fontsize=11)\n",
    "plt.xticks(np.arange(16), rotation=90)\n",
    "plt.xlabel('kategori barang')\n",
    "plt.ylabel('Harga Total Pembelian')\n",
    "plt.show()"
   ]
  },
  {
   "cell_type": "markdown",
   "id": "66428f01",
   "metadata": {},
   "source": [
    "### Analisis"
   ]
  },
  {
   "cell_type": "markdown",
   "id": "08c65163",
   "metadata": {},
   "source": [
    "Berdasarkan grafik jumlah total harga pembelian per masing masing kategori barang, pembelian Mobile & Tablet berada di urutan pertama yakni 1,39 Milyar. Hal ini sesuai dengan informasi presentasi pengguna internet di Pakistan yang meningkat sebesar 20 persen pada tahun 2016. Pengguna media sosial aktif Pakistan tumbuh lebih cepat dengan pertumbuhan 35 persen dari tahun ke tahun. (www.techinasia.com). Pembelian Mobile & Tablet juga menjadi kategori barang dengan jumlah pembelian terbanyak.\n",
    "\n",
    "Source :\n",
    "https://www.techinasia.com/pakistan-digital-landscape-2016"
   ]
  },
  {
   "cell_type": "markdown",
   "id": "be840b4c",
   "metadata": {},
   "source": [
    "### Rekomendasi"
   ]
  },
  {
   "cell_type": "markdown",
   "id": "5b722331",
   "metadata": {},
   "source": [
    "Pembelian buku merupakan kategori barang dengan jumlah pembelian terendah yakni hanya sebesar 965 ribu barang, sangat jauh lebih rendah dibandingkan dengan yang lainnya. Hal ini sesuai dengan informasi bahwa sepertiga orang Pakistan tidak dapat menulis dan membaca paragraf dalam bahasa apapun. Hal ini juga dapat menjadi potensi bagi pemerintah dan penyedia Ecommerce untuk menjadikan Ecommerce sebagai sumber kampanye untuk meningkatkan minat baca masyarakat Pakistan.\n",
    "\n",
    "Source :\n",
    "Pakistan National Education Policy Framework, 2018"
   ]
  },
  {
   "cell_type": "markdown",
   "id": "d16f344c",
   "metadata": {},
   "source": [
    "## 6. Metode Pembayaran per kategori barang\n",
    "Business Question ini bertujuan untuk metode pembayaran yang sering dilakukan untuk membeli barang tertentu."
   ]
  },
  {
   "cell_type": "code",
   "execution_count": 38,
   "id": "391e6fa5",
   "metadata": {},
   "outputs": [],
   "source": [
    "pembayaran = data.groupby('payment_method')['category_name_1'].count()"
   ]
  },
  {
   "cell_type": "code",
   "execution_count": 39,
   "id": "ee4511b2",
   "metadata": {},
   "outputs": [
    {
     "data": {
      "image/png": "[encoded data removed]",
      "text/plain": [
       "<Figure size 504x504 with 1 Axes>"
      ]
     },
     "metadata": {},
     "output_type": "display_data"
    }
   ],
   "source": [
    "plt.figure(figsize=(7,7))\n",
    "pembayaran.plot(x='payment_method', y='category_name_1', kind='bar')\n",
    "plt.title('Metode pembayaran per kategori barang')\n",
    "plt.xticks(np.arange(11), rotation=90)\n",
    "plt.xlabel('Metode pembayaran')\n",
    "plt.ylabel('Jumlah Pembayaran')\n",
    "plt.show()"
   ]
  },
  {
   "cell_type": "markdown",
   "id": "08685cfe",
   "metadata": {},
   "source": [
    "### Insight"
   ]
  },
  {
   "cell_type": "markdown",
   "id": "489304ea",
   "metadata": {},
   "source": [
    "Berdasarkan grafik diketahui bahwa COD (Cash On Delivery) menjadi sumber metode pembayaran terbesar dengan jumlah lebih dari 109 ribu transaksi. Hal ini sejajar dengan informasi bahwa Pakistan merupakan cash-driven economy dikarenakan jumlah pemegang kartu debit/kredit dan akun m-walletnya sangat rendah. Lebih dari 95% transaksi perdagangan elektronik dilakukan secara tunai (Imtiaz dkk, 2020).\n",
    "\n",
    "Source :\n",
    "Imtiaz, S., Ali, S. H., & Kim, D. J. (2020). E-commerce growth in Pakistan: Privacy, security, and trust as potential issues. Culinary Science & Hospitality Research, 26(2), 10-18."
   ]
  },
  {
   "cell_type": "markdown",
   "id": "3d61f90f",
   "metadata": {},
   "source": [
    "### Rekomendasi"
   ]
  },
  {
   "cell_type": "markdown",
   "id": "666f5cef",
   "metadata": {},
   "source": [
    "Saat ini metode Pembayaran Easypay (transaksi elektronik) perlahan mulai berpotensi menggeser metode pembayaran COD (Cash On Delivery) dengan jumlah lebih dari 59 ribu transaksi. Perlu dilakukan upaya untuk mempromosikan metode pembayaran yang lebih praktis dan aman demi kemudahan Consumer di Pakistan. Trust Issue adalah alasan mengapa metode pembayaran COD lebih banyak dilakukan. (Imtiaz dkk, 2020)\n",
    "\n",
    "Source : \n",
    "Imtiaz, S., Ali, S. H., & Kim, D. J. (2020). E-commerce growth in Pakistan: Privacy, security, and trust as potential issues. Culinary Science & Hospitality Research, 26(2), 10-18."
   ]
  },
  {
   "cell_type": "markdown",
   "id": "6ca2e0a7",
   "metadata": {},
   "source": [
    "## 7. Jumlah diskon dari masing-masing kategori barang\n",
    "Business Question ini bertujuan untuk mengetahui apakah besarnya diskon berbanding lurus dengan banyaknya sales penjualan perkategori barang"
   ]
  },
  {
   "cell_type": "code",
   "execution_count": 40,
   "id": "2c257968",
   "metadata": {},
   "outputs": [
    {
     "data": {
      "image/png": "[encoded data removed]",
      "text/plain": [
       "<Figure size 504x504 with 1 Axes>"
      ]
     },
     "metadata": {},
     "output_type": "display_data"
    }
   ],
   "source": [
    "plt.figure(figsize=(7,7))\n",
    "r= data.groupby('category_name_1')['discount_amount'].sum()\n",
    "r=pd.DataFrame(r).reset_index()\n",
    "plt.bar(r['category_name_1'], r['discount_amount'])\n",
    "plt.title('Jumlah diskon dari masing-masing kategori barang', fontsize=13)\n",
    "plt.xticks(np.arange(16), rotation=90)\n",
    "plt.xlabel('Metode pembayaran')\n",
    "plt.ylabel('Jumlah Pembayaran')\n",
    "plt.show()"
   ]
  },
  {
   "cell_type": "markdown",
   "id": "c565debb",
   "metadata": {},
   "source": [
    "### Analisis"
   ]
  },
  {
   "cell_type": "markdown",
   "id": "d5de4266",
   "metadata": {},
   "source": [
    "Berdasarkan grafik di atas diketahui bahwa diskon mobiles&tablets paling besar (65 juta) yang di susul peralatan (30 juta) dan entertaiment (28 juta)."
   ]
  },
  {
   "cell_type": "markdown",
   "id": "74986222",
   "metadata": {},
   "source": [
    "### Rekomendasi"
   ]
  },
  {
   "cell_type": "markdown",
   "id": "1c0107d1",
   "metadata": {},
   "source": [
    "Dengan mengacu kepada business question nomor 5 yakni jumlah total harga pembelian per masing masing kategori barang menunjukkan bahwa persebaran diskon dari masing-masing kategori barang sudah sesuai dengan persebaran keuntungan total dari kategori barang. Hal ini sangat baik dan harus diteruskan untuk memaksimalkan potensi keuntungan kedepannya.  "
   ]
  },
  {
   "cell_type": "code",
   "execution_count": null,
   "id": "54e3717d",
   "metadata": {},
   "outputs": [],
   "source": []
  }
 ],
 "metadata": {
  "kernelspec": {
   "display_name": "Python 3 (ipykernel)",
   "language": "python",
   "name": "python3"
  },
  "language_info": {
   "codemirror_mode": {
    "name": "ipython",
    "version": 3
   },
   "file_extension": ".py",
   "mimetype": "text/x-python",
   "name": "python",
   "nbconvert_exporter": "python",
   "pygments_lexer": "ipython3",
   "version": "3.9.12"
  },
  "vscode": {
   "interpreter": {
    "hash": "49cb93f377a7abe7414b7b0f21fb3017538004a126cf690fb524202736b7fb92"
   }
  }
 },
 "nbformat": 4,
 "nbformat_minor": 5
}
